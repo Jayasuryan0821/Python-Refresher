{
 "cells": [
  {
   "cell_type": "markdown",
   "id": "7fd86d3f",
   "metadata": {},
   "source": [
    "Variables: Fundamental elements of programming used to store data that can be referenced and manipulated in a program. \n",
    "- They are created when you assign a value to them and they don't need explict declaration to reserve memory space"
   ]
  },
  {
   "cell_type": "code",
   "execution_count": 1,
   "id": "3eb10207",
   "metadata": {},
   "outputs": [],
   "source": [
    "a=100 \n"
   ]
  },
  {
   "cell_type": "code",
   "execution_count": 3,
   "id": "d35f6ea9",
   "metadata": {},
   "outputs": [
    {
     "name": "stdout",
     "output_type": "stream",
     "text": [
      "age: 24\n",
      "Height: 6.1\n",
      "Name: Jayasuryan\n"
     ]
    }
   ],
   "source": [
    "# Definition and Assignment\n",
    "age = 24\n",
    "height = 6.1 \n",
    "name = \"Jayasuryan\"\n",
    "is_student = True\n",
    "\n",
    "# printing \n",
    "print(\"age:\",age)\n",
    "print(\"Height:\",height)\n",
    "print(\"Name:\",name)\n"
   ]
  },
  {
   "cell_type": "code",
   "execution_count": 4,
   "id": "c2f71db9",
   "metadata": {},
   "outputs": [],
   "source": [
    "# Naming conventions \n",
    "# Variable name should be descriptive \n",
    "# They must always start with a letter or underscore _ and can contain letters,numbers,underscores \n",
    "# Variables names are case sensitive\n",
    "# Valid variable names \n",
    "\n",
    "first_name = \"Jayasuryan\"\n",
    "last_name = \"Mutyala\"\n"
   ]
  },
  {
   "cell_type": "code",
   "execution_count": null,
   "id": "2da29780",
   "metadata": {},
   "outputs": [
    {
     "ename": "SyntaxError",
     "evalue": "invalid decimal literal (395682129.py, line 2)",
     "output_type": "error",
     "traceback": [
      "  \u001b[36mCell\u001b[39m\u001b[36m \u001b[39m\u001b[32mIn[5]\u001b[39m\u001b[32m, line 2\u001b[39m\n\u001b[31m    \u001b[39m\u001b[31m2age = 30\u001b[39m\n    ^\n\u001b[31mSyntaxError\u001b[39m\u001b[31m:\u001b[39m invalid decimal literal\n"
     ]
    }
   ],
   "source": [
    "# Invalid variable names\n",
    "# 2age = 30\n",
    "# first-name == \"xy\""
   ]
  },
  {
   "cell_type": "code",
   "execution_count": 6,
   "id": "cd0db4de",
   "metadata": {},
   "outputs": [
    {
     "data": {
      "text/plain": [
       "float"
      ]
     },
     "execution_count": 6,
     "metadata": {},
     "output_type": "execute_result"
    }
   ],
   "source": [
    "# Type checking and conversion \n",
    "type(height)"
   ]
  },
  {
   "cell_type": "code",
   "execution_count": 7,
   "id": "4ba4853f",
   "metadata": {},
   "outputs": [
    {
     "name": "stdout",
     "output_type": "stream",
     "text": [
      "<class 'int'>\n",
      "13\n",
      "<class 'str'>\n"
     ]
    }
   ],
   "source": [
    "# typecasting \n",
    "age = 13\n",
    "print(type(age))\n",
    "\n",
    "age_str = str(age)\n",
    "print(age_str)\n",
    "print(type(age_str))"
   ]
  },
  {
   "cell_type": "code",
   "execution_count": 8,
   "id": "da09efb6",
   "metadata": {},
   "outputs": [
    {
     "name": "stdout",
     "output_type": "stream",
     "text": [
      "<class 'int'>\n"
     ]
    }
   ],
   "source": [
    "age = '25'\n",
    "print(type(int(age)))"
   ]
  },
  {
   "cell_type": "code",
   "execution_count": 9,
   "id": "7ec4d717",
   "metadata": {},
   "outputs": [
    {
     "data": {
      "text/plain": [
       "float"
      ]
     },
     "execution_count": 9,
     "metadata": {},
     "output_type": "execute_result"
    }
   ],
   "source": [
    "height = 5.11 \n",
    "type(height)"
   ]
  },
  {
   "cell_type": "code",
   "execution_count": 12,
   "id": "ce666f19",
   "metadata": {},
   "outputs": [
    {
     "name": "stdout",
     "output_type": "stream",
     "text": [
      "5\n"
     ]
    },
    {
     "data": {
      "text/plain": [
       "int"
      ]
     },
     "execution_count": 12,
     "metadata": {},
     "output_type": "execute_result"
    }
   ],
   "source": [
    "height = int(height)\n",
    "print(height)\n",
    "type(height)\n"
   ]
  },
  {
   "cell_type": "code",
   "execution_count": 13,
   "id": "03a86133",
   "metadata": {},
   "outputs": [
    {
     "data": {
      "text/plain": [
       "5.0"
      ]
     },
     "execution_count": 13,
     "metadata": {},
     "output_type": "execute_result"
    }
   ],
   "source": [
    "float(height)"
   ]
  },
  {
   "cell_type": "code",
   "execution_count": 15,
   "id": "7b000096",
   "metadata": {},
   "outputs": [
    {
     "name": "stdout",
     "output_type": "stream",
     "text": [
      "10 <class 'int'>\n",
      "Hello <class 'str'>\n",
      "3.14 <class 'float'>\n"
     ]
    }
   ],
   "source": [
    "# Dynamic typing \n",
    "# Python allows the data type of the variable as program executes \n",
    "var = 10 \n",
    "print(var,type(var))\n",
    "\n",
    "var = \"Hello\"\n",
    "print(var,type(var))\n",
    "\n",
    "var = 3.14 \n",
    "print(var,type(var))"
   ]
  },
  {
   "cell_type": "code",
   "execution_count": 19,
   "id": "414d1778",
   "metadata": {},
   "outputs": [
    {
     "name": "stdout",
     "output_type": "stream",
     "text": [
      "23\n"
     ]
    }
   ],
   "source": [
    "# input \n",
    "age = int(input(\"what is age\"))\n",
    "print(age)"
   ]
  },
  {
   "cell_type": "code",
   "execution_count": 18,
   "id": "8e338be4",
   "metadata": {},
   "outputs": [
    {
     "data": {
      "text/plain": [
       "str"
      ]
     },
     "execution_count": 18,
     "metadata": {},
     "output_type": "execute_result"
    }
   ],
   "source": [
    "type(age)"
   ]
  },
  {
   "cell_type": "code",
   "execution_count": 21,
   "id": "1b813957",
   "metadata": {},
   "outputs": [
    {
     "name": "stdout",
     "output_type": "stream",
     "text": [
      "sum: 15.0\n",
      "difference: 15.0\n",
      "product: 50.0\n",
      "division: 2.0\n"
     ]
    }
   ],
   "source": [
    "# Simple calc \n",
    "num1 = float(input(\"Enter the first number:\"))\n",
    "num2 = float(input(\"Enter the second number:\"))\n",
    "sum = num1 + num2 \n",
    "sub = num1 - num2 \n",
    "product = num1*num2 \n",
    "division = num1/num2 \n",
    "\n",
    "print(\"sum:\",sum)\n",
    "print(\"difference:\",sum)\n",
    "print(\"product:\",product)\n",
    "print(\"division:\",division)"
   ]
  }
 ],
 "metadata": {
  "kernelspec": {
   "display_name": "myenv",
   "language": "python",
   "name": "python3"
  },
  "language_info": {
   "codemirror_mode": {
    "name": "ipython",
    "version": 3
   },
   "file_extension": ".py",
   "mimetype": "text/x-python",
   "name": "python",
   "nbconvert_exporter": "python",
   "pygments_lexer": "ipython3",
   "version": "3.12.1"
  }
 },
 "nbformat": 4,
 "nbformat_minor": 5
}
