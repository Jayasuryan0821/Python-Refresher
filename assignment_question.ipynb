{
 "cells": [
  {
   "cell_type": "markdown",
   "metadata": {},
   "source": [
    "# Lesson 1.2: Python Basics\n",
    "## Topics Covered:\n",
    "- Syntax and Semantics\n",
    "- Variables and Data Types\n",
    "- Basic Operators (Arithmetic, Comparison, Logical)\n"
   ]
  },
  {
   "cell_type": "markdown",
   "metadata": {},
   "source": [
    "## 1. Syntax and Semantics\n",
    "\n",
    "**Question 1:** Write a Python program to print \"Hello, World!\"."
   ]
  },
  {
   "cell_type": "code",
   "execution_count": 1,
   "metadata": {},
   "outputs": [
    {
     "name": "stdout",
     "output_type": "stream",
     "text": [
      "Hello World!\n"
     ]
    }
   ],
   "source": [
    "# Your code here\n",
    "print(\"Hello World!\")"
   ]
  },
  {
   "cell_type": "markdown",
   "metadata": {},
   "source": [
    "**Question 2:** Write a Python program that takes a user input and prints it."
   ]
  },
  {
   "cell_type": "code",
   "execution_count": 2,
   "metadata": {},
   "outputs": [
    {
     "name": "stdout",
     "output_type": "stream",
     "text": [
      "1\n"
     ]
    }
   ],
   "source": [
    "# Your code here\n",
    "a = int(input(\"enter a number:\"))\n",
    "print(a)"
   ]
  },
  {
   "cell_type": "markdown",
   "metadata": {},
   "source": [
    "**Question 3:** Write a Python program to check if a number is positive, negative, or zero."
   ]
  },
  {
   "cell_type": "code",
   "execution_count": null,
   "metadata": {},
   "outputs": [
    {
     "name": "stdout",
     "output_type": "stream",
     "text": [
      "Number is positive\n"
     ]
    }
   ],
   "source": [
    "# Your code here\n",
    "number = float(input(\"Enter the number:\"))\n",
    "print(number)\n",
    "if number > 0:\n",
    "    print(\"Number is positive\")\n",
    "elif number == 0:\n",
    "    print(\"Number is 0\")\n",
    "else:\n",
    "    print(\"Number is negative\")"
   ]
  },
  {
   "cell_type": "markdown",
   "metadata": {},
   "source": [
    "**Question 4:** Write a Python program to find the largest of three numbers."
   ]
  },
  {
   "cell_type": "code",
   "execution_count": 8,
   "metadata": {},
   "outputs": [
    {
     "name": "stdout",
     "output_type": "stream",
     "text": [
      "c is the largest no: 20\n"
     ]
    }
   ],
   "source": [
    "# Your code here\n",
    "a = 10 \n",
    "b = 12 \n",
    "c = 20\n",
    "# simplest way to solve the problem\n",
    "# result = max(a,b,c)\n",
    "# print(result) \n",
    "\n",
    "# if else condition \n",
    "if a > b and a > c:\n",
    "    print(\"a is the largest no:\",a)\n",
    "elif b > a and b > c:\n",
    "    print(\"b is the largest no:\",b)\n",
    "else:\n",
    "    print(\"c is the largest no:\",c)"
   ]
  },
  {
   "cell_type": "markdown",
   "metadata": {},
   "source": [
    "**Question 5:** Write a Python program to calculate the factorial of a number."
   ]
  },
  {
   "cell_type": "code",
   "execution_count": null,
   "metadata": {},
   "outputs": [
    {
     "name": "stdout",
     "output_type": "stream",
     "text": [
      "120\n"
     ]
    }
   ],
   "source": [
    "# Your code here\n",
    "n = 5 \n",
    "#  5! = 5*4*3*2*1\n",
    "total = 1\n",
    "for i in range(1,n + 1):\n",
    "    total *= i\n",
    "print(total)\n",
    "# iter 1\n",
    "# total = 1*1 = 1\n",
    "# iter 2\n",
    "# total = 2*1 = 2 \n",
    "# iter 3 \n",
    "# total = 3*2 = 6 \n",
    "# iter 4 \n",
    "# total = 6*4 = 24 \n",
    "# iter 5 \n",
    "# total = 24*5 = 120 "
   ]
  },
  {
   "cell_type": "markdown",
   "metadata": {},
   "source": [
    "## 2. Variables and Data Types\n",
    "\n",
    "**Question 6:** Create variables of different data types: integer, float, string, and boolean. Print their values and types."
   ]
  },
  {
   "cell_type": "code",
   "execution_count": 16,
   "metadata": {},
   "outputs": [
    {
     "name": "stdout",
     "output_type": "stream",
     "text": [
      "a:10,a type:<class 'int'>\n",
      "b:2.0,b type:<class 'float'>\n",
      "c:ABC,c type:<class 'str'>\n",
      "True,<class 'bool'>\n"
     ]
    }
   ],
   "source": [
    "# Your code here\n",
    "a = 10 \n",
    "b = 2.0 \n",
    "s = \"ABC\"\n",
    "is_True = True \n",
    "print(f\"a:{a},a type:{type(a)}\")\n",
    "print(f\"b:{b},b type:{type(b)}\")\n",
    "print(f\"c:{s},c type:{type(s)}\")\n",
    "print(f\"{is_True},{type(is_True)}\")"
   ]
  },
  {
   "cell_type": "markdown",
   "metadata": {},
   "source": [
    "**Question 7:** Write a Python program to swap the values of two variables."
   ]
  },
  {
   "cell_type": "code",
   "execution_count": 17,
   "metadata": {},
   "outputs": [
    {
     "name": "stdout",
     "output_type": "stream",
     "text": [
      "a 3\n",
      "b 2\n",
      "a 2\n",
      "b 3\n"
     ]
    }
   ],
   "source": [
    "# Your code here\n",
    "a = 3 \n",
    "b = 2 \n",
    "print('a',a)\n",
    "print('b',b)\n",
    "temp = a \n",
    "a = b \n",
    "b = temp \n",
    "print('a',a)\n",
    "print('b',b)"
   ]
  },
  {
   "cell_type": "markdown",
   "metadata": {},
   "source": [
    "**Question 8:** Write a Python program to convert Celsius to Fahrenheit."
   ]
  },
  {
   "cell_type": "code",
   "execution_count": 18,
   "metadata": {},
   "outputs": [
    {
     "data": {
      "text/plain": [
       "93.2"
      ]
     },
     "execution_count": 18,
     "metadata": {},
     "output_type": "execute_result"
    }
   ],
   "source": [
    "# Your code here\n",
    "celsius = 34 \n",
    "farenheit = celsius*(9/5) + 32 \n",
    "farenheit"
   ]
  },
  {
   "cell_type": "markdown",
   "metadata": {},
   "source": [
    "**Question 9:** Write a Python program to concatenate two strings."
   ]
  },
  {
   "cell_type": "code",
   "execution_count": 19,
   "metadata": {},
   "outputs": [
    {
     "data": {
      "text/plain": [
       "'Joincode'"
      ]
     },
     "execution_count": 19,
     "metadata": {},
     "output_type": "execute_result"
    }
   ],
   "source": [
    "# Your code here\n",
    "str1 = 'Join'\n",
    "str2 = \"code\"\n",
    "str1 + str2"
   ]
  },
  {
   "cell_type": "markdown",
   "metadata": {},
   "source": [
    "**Question 10:** Write a Python program to check if a variable is of a specific data type."
   ]
  },
  {
   "cell_type": "code",
   "execution_count": 24,
   "metadata": {},
   "outputs": [
    {
     "name": "stdout",
     "output_type": "stream",
     "text": [
      "10 is a <class 'int'>\n"
     ]
    }
   ],
   "source": [
    "# Your code here\n",
    "a = 10 \n",
    "if isinstance(a,int):\n",
    "    print(f\"{a} is a {type(a)}\")"
   ]
  },
  {
   "cell_type": "markdown",
   "metadata": {},
   "source": [
    "## 3. Basic Operators (Arithmetic, Comparison, Logical)\n",
    "\n",
    "**Question 11:** Write a Python program to perform arithmetic operations: addition, subtraction, multiplication, and division."
   ]
  },
  {
   "cell_type": "code",
   "execution_count": 26,
   "metadata": {},
   "outputs": [
    {
     "name": "stdout",
     "output_type": "stream",
     "text": [
      "addition result: 30\n",
      "subtraction result: -10\n",
      "product result: 200\n",
      "division result: 0.5\n"
     ]
    }
   ],
   "source": [
    "# Your code here\n",
    "a = 10 \n",
    "b = 20 \n",
    "add_Res = a + b \n",
    "sub_res = a - b\n",
    "prod_res = a*b \n",
    "div_res = a/b\n",
    "print(\"addition result:\",add_Res)\n",
    "print(\"subtraction result:\",sub_res)\n",
    "print(\"product result:\",prod_res)\n",
    "print(\"division result:\",div_res)\n",
    "\n",
    "\n",
    "\n"
   ]
  },
  {
   "cell_type": "markdown",
   "metadata": {},
   "source": [
    "**Question 12:** Write a Python program to demonstrate comparison operators: equal to, not equal to, greater than, less than."
   ]
  },
  {
   "cell_type": "code",
   "execution_count": 27,
   "metadata": {},
   "outputs": [
    {
     "name": "stdout",
     "output_type": "stream",
     "text": [
      "a is less than or equal to b\n"
     ]
    }
   ],
   "source": [
    "# Your code here\n",
    "a = 10 \n",
    "b = 13\n",
    "if a >= b:\n",
    "    print(\"a is greater than or equal to b\")\n",
    "elif a == b:\n",
    "    print(\"a and b are equal\")\n",
    "elif a <= b:\n",
    "    print('a is less than or equal to b')\n"
   ]
  },
  {
   "cell_type": "markdown",
   "metadata": {},
   "source": [
    "**Question 13:** Write a Python program to demonstrate logical operators: and, or, not."
   ]
  },
  {
   "cell_type": "code",
   "execution_count": 30,
   "metadata": {},
   "outputs": [
    {
     "name": "stdout",
     "output_type": "stream",
     "text": [
      "A and B: False\n",
      "A or B: True\n",
      "not A: False\n"
     ]
    }
   ],
   "source": [
    "# Your code here\n",
    "A = True \n",
    "B = False \n",
    "C = True \n",
    "and_res = A and B\n",
    "print(\"A and B:\",and_res)\n",
    "or_res = A or B\n",
    "print(\"A or B:\",or_res)\n",
    "not_res = not A\n",
    "print(\"not A:\",not_res)"
   ]
  },
  {
   "cell_type": "markdown",
   "metadata": {},
   "source": [
    "**Question 14:** Write a Python program to calculate the square of a number."
   ]
  },
  {
   "cell_type": "code",
   "execution_count": 31,
   "metadata": {},
   "outputs": [
    {
     "name": "stdout",
     "output_type": "stream",
     "text": [
      "4\n"
     ]
    }
   ],
   "source": [
    "# Your code here\n",
    "num = 2 \n",
    "print(num**2)"
   ]
  },
  {
   "cell_type": "markdown",
   "metadata": {},
   "source": [
    "**Question 15:** Write a Python program to check if a number is even or odd."
   ]
  },
  {
   "cell_type": "code",
   "execution_count": 32,
   "metadata": {},
   "outputs": [
    {
     "name": "stdout",
     "output_type": "stream",
     "text": [
      "num is even\n"
     ]
    }
   ],
   "source": [
    "# Your code here\n",
    "num = 10 \n",
    "if num % 2 == 0:\n",
    "    print(\"num is even\")\n",
    "else:\n",
    "    print(\"num is odd\")"
   ]
  },
  {
   "cell_type": "markdown",
   "metadata": {},
   "source": [
    "**Question 16:** Write a Python program to find the sum of the first n natural numbers."
   ]
  },
  {
   "cell_type": "code",
   "execution_count": 33,
   "metadata": {},
   "outputs": [
    {
     "name": "stdout",
     "output_type": "stream",
     "text": [
      "171\n"
     ]
    }
   ],
   "source": [
    "# Your code here\n",
    "n = 19\n",
    "total = 0 \n",
    "for i in range(n):\n",
    "    total += i\n",
    "print(total)"
   ]
  },
  {
   "cell_type": "markdown",
   "metadata": {},
   "source": [
    "**Question 17:** Write a Python program to check if a year is a leap year."
   ]
  },
  {
   "cell_type": "code",
   "execution_count": 34,
   "metadata": {},
   "outputs": [
    {
     "name": "stdout",
     "output_type": "stream",
     "text": [
      "2019 is not a leap year.\n"
     ]
    }
   ],
   "source": [
    "# Your code here\n",
    "year = int(input(\"Enter a year: \"))\n",
    "if (year % 4 == 0 and year % 100 != 0) or (year % 400 == 0):\n",
    "    print(f\"{year} is a leap year.\")\n",
    "else:\n",
    "    print(f\"{year} is not a leap year.\")"
   ]
  },
  {
   "cell_type": "markdown",
   "metadata": {},
   "source": [
    "**Question 18:** Write a Python program to reverse a string."
   ]
  },
  {
   "cell_type": "code",
   "execution_count": 36,
   "metadata": {},
   "outputs": [
    {
     "name": "stdout",
     "output_type": "stream",
     "text": [
      "m\n",
      "u\n",
      "b\n",
      "l\n",
      "a\n",
      " \n",
      "w\n",
      "e\n",
      "n\n",
      " \n",
      "e\n",
      "h\n",
      "t\n",
      " \n",
      "t\n",
      "n\n",
      "a\n",
      "w\n",
      " \n",
      "I\n",
      "mubla wen eht tnaw I\n"
     ]
    }
   ],
   "source": [
    "# Your code here\n",
    "s = \"I want the new album\"\n",
    "for i in range(len(s)-1,-1,-1):\n",
    "    print(s[i])\n",
    "print(s[::-1])"
   ]
  },
  {
   "cell_type": "markdown",
   "metadata": {},
   "source": [
    "**Question 19:** Write a Python program to check if a string is a palindrome."
   ]
  },
  {
   "cell_type": "code",
   "execution_count": 38,
   "metadata": {},
   "outputs": [
    {
     "name": "stdout",
     "output_type": "stream",
     "text": [
      "The reversed string is: sj\n"
     ]
    }
   ],
   "source": [
    "# Your code here\n",
    "string = input(\"Enter a string: \")\n",
    "reversed_string = string[::-1]\n",
    "print(f\"The reversed string is: {reversed_string}\")"
   ]
  },
  {
   "cell_type": "markdown",
   "metadata": {},
   "source": [
    "**Question 20:** Write a Python program to sort a list of numbers in ascending order."
   ]
  },
  {
   "cell_type": "code",
   "execution_count": 43,
   "metadata": {},
   "outputs": [
    {
     "name": "stdout",
     "output_type": "stream",
     "text": [
      "[2, 4, 9, 10]\n"
     ]
    }
   ],
   "source": [
    "# Your code here\n",
    "nums = [4,10,9,2]\n",
    "for i in range(len(nums)):\n",
    "    for j in range(0,len(nums) - i - 1):\n",
    "        if nums[j] > nums[j + 1]:\n",
    "            temp = nums[j]\n",
    "            nums[j] = nums[j + 1]\n",
    "            nums[j + 1] = temp\n",
    "print(nums)"
   ]
  }
 ],
 "metadata": {
  "kernelspec": {
   "display_name": "myenv",
   "language": "python",
   "name": "python3"
  },
  "language_info": {
   "codemirror_mode": {
    "name": "ipython",
    "version": 3
   },
   "file_extension": ".py",
   "mimetype": "text/x-python",
   "name": "python",
   "nbconvert_exporter": "python",
   "pygments_lexer": "ipython3",
   "version": "3.12.1"
  }
 },
 "nbformat": 4,
 "nbformat_minor": 4
}
