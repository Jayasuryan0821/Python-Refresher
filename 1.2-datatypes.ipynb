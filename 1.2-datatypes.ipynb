{
 "cells": [
  {
   "cell_type": "markdown",
   "id": "53d81ba2",
   "metadata": {},
   "source": [
    "- Datatypes: Classification of data which tell the compiler or interpreter how the programmer intends to use the data. \n",
    "- They determine the type of operators that can be performed on the data the values that the data can take the amount of memory needed to store the data.\n",
    "\n",
    "Importance:\n",
    "- Datatypes ensure data is stored in an efficient way \n",
    "-  They help in performing correct operations on data. \n",
    "- Proper use of the data types can prevent errors."
   ]
  },
  {
   "cell_type": "code",
   "execution_count": 1,
   "id": "8ecd22a0",
   "metadata": {},
   "outputs": [
    {
     "data": {
      "text/plain": [
       "int"
      ]
     },
     "execution_count": 1,
     "metadata": {},
     "output_type": "execute_result"
    }
   ],
   "source": [
    "# integers \n",
    "age = 43 \n",
    "type(age)"
   ]
  },
  {
   "cell_type": "code",
   "execution_count": 4,
   "id": "5c998cb0",
   "metadata": {},
   "outputs": [
    {
     "name": "stdout",
     "output_type": "stream",
     "text": [
      "5.11\n",
      "<class 'float'>\n"
     ]
    }
   ],
   "source": [
    "# floating point datatype \n",
    "height = 5.11\n",
    "print(height) \n",
    "print(type(height))"
   ]
  },
  {
   "cell_type": "code",
   "execution_count": 5,
   "id": "a4e346cc",
   "metadata": {},
   "outputs": [
    {
     "name": "stdout",
     "output_type": "stream",
     "text": [
      "Jayasuryan\n",
      "<class 'str'>\n"
     ]
    }
   ],
   "source": [
    "# string datatype example \n",
    "name  = \"Jayasuryan\"\n",
    "print(name)\n",
    "print(type(name))"
   ]
  },
  {
   "cell_type": "code",
   "execution_count": 6,
   "id": "37b931bf",
   "metadata": {},
   "outputs": [
    {
     "data": {
      "text/plain": [
       "bool"
      ]
     },
     "execution_count": 6,
     "metadata": {},
     "output_type": "execute_result"
    }
   ],
   "source": [
    "#boolean\n",
    "is_bool = True\n",
    "type(is_bool)"
   ]
  },
  {
   "cell_type": "code",
   "execution_count": null,
   "id": "13c31acf",
   "metadata": {},
   "outputs": [
    {
     "data": {
      "text/plain": [
       "False"
      ]
     },
     "execution_count": 7,
     "metadata": {},
     "output_type": "execute_result"
    }
   ],
   "source": [
    "bool()"
   ]
  },
  {
   "cell_type": "code",
   "execution_count": 9,
   "id": "f4d9037a",
   "metadata": {},
   "outputs": [
    {
     "data": {
      "text/plain": [
       "bool"
      ]
     },
     "execution_count": 9,
     "metadata": {},
     "output_type": "execute_result"
    }
   ],
   "source": [
    "a = 10 \n",
    "b = 10 \n",
    "type(a == b)"
   ]
  },
  {
   "cell_type": "code",
   "execution_count": 11,
   "id": "7e94fa00",
   "metadata": {},
   "outputs": [
    {
     "data": {
      "text/plain": [
       "'Hello5'"
      ]
     },
     "execution_count": 11,
     "metadata": {},
     "output_type": "execute_result"
    }
   ],
   "source": [
    "# common errors\n",
    "# result = \"Hello\" + 5 \n",
    "# result  \n",
    "\n",
    "# we get a type error \n",
    "\n",
    "result = \"Hello\" + str(5)\n",
    "result\n"
   ]
  }
 ],
 "metadata": {
  "kernelspec": {
   "display_name": "myenv",
   "language": "python",
   "name": "python3"
  },
  "language_info": {
   "codemirror_mode": {
    "name": "ipython",
    "version": 3
   },
   "file_extension": ".py",
   "mimetype": "text/x-python",
   "name": "python",
   "nbconvert_exporter": "python",
   "pygments_lexer": "ipython3",
   "version": "3.12.1"
  }
 },
 "nbformat": 4,
 "nbformat_minor": 5
}
