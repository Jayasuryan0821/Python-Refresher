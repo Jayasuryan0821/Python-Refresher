{
 "cells": [
  {
   "cell_type": "markdown",
   "id": "72e2cd26",
   "metadata": {},
   "source": [
    "We have arthimetic, comparision, logical operators "
   ]
  },
  {
   "cell_type": "code",
   "execution_count": 7,
   "id": "30bf5fe8",
   "metadata": {},
   "outputs": [
    {
     "name": "stdout",
     "output_type": "stream",
     "text": [
      "15\n",
      "5\n",
      "50\n",
      "2.0\n",
      "2\n",
      "0\n",
      "100000\n"
     ]
    }
   ],
   "source": [
    "# Arthimetic operation \n",
    "a = 10 \n",
    "b = 5 \n",
    "add_result = a + b\n",
    "sub_result = a - b \n",
    "mul_result = a*b\n",
    "div_result = a/b\n",
    "floor_div = a//b\n",
    "mod_result = a % b \n",
    "exp_result = a**b # exponential opr\n",
    "\n",
    "print(add_result)\n",
    "print(sub_result)\n",
    "print(mul_result)\n",
    "print(div_result)\n",
    "print(floor_div)\n",
    "print(mod_result)\n",
    "print(exp_result)"
   ]
  },
  {
   "cell_type": "code",
   "execution_count": 10,
   "id": "8ef77d3d",
   "metadata": {},
   "outputs": [
    {
     "name": "stdout",
     "output_type": "stream",
     "text": [
      "True\n"
     ]
    }
   ],
   "source": [
    "# Comparision results\n",
    "# == \n",
    "a = 10 \n",
    "b = 10 \n",
    "result = (a == b)\n",
    "print(result)\n",
    "\n"
   ]
  },
  {
   "cell_type": "code",
   "execution_count": 12,
   "id": "fb398c47",
   "metadata": {},
   "outputs": [
    {
     "name": "stdout",
     "output_type": "stream",
     "text": [
      "True\n",
      "False\n"
     ]
    }
   ],
   "source": [
    "str1 = \"surya\"\n",
    "str2 = \"surya\"\n",
    "print(str1 == str2)\n",
    "print(str1 != str2)"
   ]
  },
  {
   "cell_type": "code",
   "execution_count": 13,
   "id": "a7109d1e",
   "metadata": {},
   "outputs": [
    {
     "data": {
      "text/plain": [
       "True"
      ]
     },
     "execution_count": 13,
     "metadata": {},
     "output_type": "execute_result"
    }
   ],
   "source": [
    "str3 = \"Sam\"\n",
    "str4 = \"Jackson\"\n",
    "str3 != str4"
   ]
  },
  {
   "cell_type": "code",
   "execution_count": 14,
   "id": "a14ff9e2",
   "metadata": {},
   "outputs": [
    {
     "data": {
      "text/plain": [
       "False"
      ]
     },
     "execution_count": 14,
     "metadata": {},
     "output_type": "execute_result"
    }
   ],
   "source": [
    "# greater than\n",
    "num1 = 45\n",
    "num2 = 55 \n",
    "num1 > num2"
   ]
  },
  {
   "cell_type": "code",
   "execution_count": 15,
   "id": "2ced9de0",
   "metadata": {},
   "outputs": [
    {
     "data": {
      "text/plain": [
       "True"
      ]
     },
     "execution_count": 15,
     "metadata": {},
     "output_type": "execute_result"
    }
   ],
   "source": [
    "# less than \n",
    "num1 < num2"
   ]
  },
  {
   "cell_type": "code",
   "execution_count": 16,
   "id": "117aeb1b",
   "metadata": {},
   "outputs": [
    {
     "name": "stdout",
     "output_type": "stream",
     "text": [
      "True\n"
     ]
    }
   ],
   "source": [
    "# greater than or equal to \n",
    "num1 = 45 \n",
    "num2 = 45 \n",
    "print(num1 >= num2)"
   ]
  },
  {
   "cell_type": "code",
   "execution_count": 17,
   "id": "2ed95d1c",
   "metadata": {},
   "outputs": [
    {
     "data": {
      "text/plain": [
       "True"
      ]
     },
     "execution_count": 17,
     "metadata": {},
     "output_type": "execute_result"
    }
   ],
   "source": [
    "# less than or equal to \n",
    "num1 = 45 \n",
    "num2 = 45 \n",
    "num1 <= num2"
   ]
  },
  {
   "cell_type": "markdown",
   "id": "46c2283f",
   "metadata": {},
   "source": [
    "Logical operators"
   ]
  },
  {
   "cell_type": "code",
   "execution_count": 18,
   "id": "6f550ed2",
   "metadata": {},
   "outputs": [
    {
     "name": "stdout",
     "output_type": "stream",
     "text": [
      "True\n"
     ]
    }
   ],
   "source": [
    "# And,NOT,OR\n",
    "X = True \n",
    "Y = True \n",
    "result = X and Y \n",
    "print(result)"
   ]
  },
  {
   "cell_type": "code",
   "execution_count": 19,
   "id": "c075ff67",
   "metadata": {},
   "outputs": [
    {
     "data": {
      "text/plain": [
       "False"
      ]
     },
     "execution_count": 19,
     "metadata": {},
     "output_type": "execute_result"
    }
   ],
   "source": [
    "X = False \n",
    "Y = False \n",
    "result = (X or Y)\n",
    "result"
   ]
  },
  {
   "cell_type": "code",
   "execution_count": 20,
   "id": "2c4cf6fd",
   "metadata": {},
   "outputs": [
    {
     "data": {
      "text/plain": [
       "False"
      ]
     },
     "execution_count": 20,
     "metadata": {},
     "output_type": "execute_result"
    }
   ],
   "source": [
    "X = True \n",
    "not X"
   ]
  }
 ],
 "metadata": {
  "kernelspec": {
   "display_name": "myenv",
   "language": "python",
   "name": "python3"
  },
  "language_info": {
   "codemirror_mode": {
    "name": "ipython",
    "version": 3
   },
   "file_extension": ".py",
   "mimetype": "text/x-python",
   "name": "python",
   "nbconvert_exporter": "python",
   "pygments_lexer": "ipython3",
   "version": "3.12.1"
  }
 },
 "nbformat": 4,
 "nbformat_minor": 5
}
